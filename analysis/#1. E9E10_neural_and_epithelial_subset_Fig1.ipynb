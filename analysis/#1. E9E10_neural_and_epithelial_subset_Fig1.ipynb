{
 "cells": [
  {
   "cell_type": "code",
   "execution_count": null,
   "id": "1ef694a8-5eed-4f6f-949d-f279918280d6",
   "metadata": {},
   "outputs": [],
   "source": [
    "import scanpy as sc\n",
    "import igraph\n",
    "import leidenalg\n",
    "import numpy as np"
   ]
  },
  {
   "cell_type": "code",
   "execution_count": null,
   "id": "8c6b37fe-d5b5-426a-9109-1a4194ab3978",
   "metadata": {},
   "outputs": [],
   "source": [
    "# Read the file\n",
    "adata = sc.read_h5ad(\"E9E10_all.h5ad\")"
   ]
  },
  {
   "cell_type": "code",
   "execution_count": null,
   "id": "62ea0a06-78c4-4364-b7a1-eab7fea9afe0",
   "metadata": {
    "scrolled": true
   },
   "outputs": [],
   "source": [
    "# Inspect the data\n",
    "print(adata)"
   ]
  },
  {
   "cell_type": "code",
   "execution_count": null,
   "id": "98ce9015-0edf-41fe-b725-fa1436a202fb",
   "metadata": {
    "scrolled": true
   },
   "outputs": [],
   "source": [
    "# Visualize the clusters\n",
    "sc.pl.umap(\n",
    "    adata,\n",
    "    color='leiden',               \n",
    "    legend_loc='on data',         # Display labels directly on the UMAP\n",
    "    title='Cluster Visualization',  # Add a title\n",
    "    size=40,                      # Adjust marker size                \n",
    "    palette='Set2',               # Use a custom color palette\n",
    ")"
   ]
  },
  {
   "cell_type": "markdown",
   "id": "9488df67",
   "metadata": {},
   "source": [
    "# subset neural and epithelial cells"
   ]
  },
  {
   "cell_type": "code",
   "execution_count": null,
   "id": "438bc668-e5a3-4147-9ceb-32dc09f451c9",
   "metadata": {},
   "outputs": [],
   "source": [
    "## Subset specific clusters\n",
    "clusters_of_interest = [\"9\",\"13\",\"6\",\"5\",\"2\",\"15\",\"8\",\"16\",\"12\",\"7\"] \n",
    "# Subset the data for the specified clusters\n",
    "adata_subset = adata[adata.obs['leiden'].isin(clusters_of_interest)]\n",
    "\n",
    "# Save the subsetted data for further analysis\n",
    "adata_subset.write_h5ad(\"E9E10_neural_and_epi.h5ad\")\n"
   ]
  },
  {
   "cell_type": "code",
   "execution_count": null,
   "id": "742a33f4-c140-45cf-b9c2-618104f42c86",
   "metadata": {},
   "outputs": [],
   "source": [
    "#further subset NC and AC, discard EXC\n",
    "\n",
    "samples_of_interest = [\"E9NC\",\"E9AC\",\"E10NC\",\"E10AC\"]  # Replace with your specific sample IDs\n",
    "\n",
    "# Subset the AnnData object\n",
    "adata_subset = adata_subset[adata_subset.obs['orig.ident'].isin(samples_of_interest)]\n",
    "\n",
    "# Inspect the subsetted data\n",
    "print(adata_subset)\n",
    "\n",
    "#69296 cells\n",
    "\n",
    "# Save the subsetted data for further analysis\n",
    "adata_subset.write_h5ad(\"E9E10NC.AC_neural_and_epi.h5ad\")\n"
   ]
  },
  {
   "cell_type": "code",
   "execution_count": null,
   "id": "c866cae8-3dee-4b12-9b4c-da4794d75798",
   "metadata": {},
   "outputs": [],
   "source": [
    "print(adata_subset)\n",
    "#69296 CELLS"
   ]
  },
  {
   "cell_type": "code",
   "execution_count": null,
   "id": "24e438ef-cbc0-442f-93d8-0167eb2d9b0c",
   "metadata": {},
   "outputs": [],
   "source": [
    "adata_subset = sc.read_h5ad(\"E9E10NC.AC_neural_and_epi.h5ad\")"
   ]
  },
  {
   "cell_type": "code",
   "execution_count": null,
   "id": "6a33bb46-5407-4232-82b0-5f378308e1a5",
   "metadata": {},
   "outputs": [],
   "source": [
    "#check cell number \n",
    "orig_ident_counts = adata_subset.obs['orig.ident'].value_counts()\n",
    "print(\"Counts of each 'orig.ident':\")\n",
    "print(orig_ident_counts)\n"
   ]
  },
  {
   "cell_type": "code",
   "execution_count": null,
   "id": "e7b9d047-e854-4138-8389-82ba7f8c8c34",
   "metadata": {},
   "outputs": [],
   "source": [
    "#show the subset umap\n",
    "sc.pl.umap(\n",
    "    adata_subset,\n",
    "    color='leiden',               # Color by cluster\n",
    "    legend_loc='on data',         # Display labels directly on the UMAP\n",
    "    title='E9E10_neural_and_epi',  # Add a title\n",
    "    size=10,                      # Adjust marker size\n",
    "    palette='Set2',               # Use a custom color palette\n",
    ")"
   ]
  },
  {
   "cell_type": "markdown",
   "id": "ef57e912",
   "metadata": {},
   "source": [
    "# Processing and run umap"
   ]
  },
  {
   "cell_type": "code",
   "execution_count": null,
   "id": "24a4ef4b-1285-4cb6-9188-b4698c6296a4",
   "metadata": {},
   "outputs": [],
   "source": [
    "# Normalize the subset\n",
    "sc.pp.normalize_total(adata_subset, target_sum=1e4)\n",
    "\n",
    "# Log-transform the data\n",
    "sc.pp.log1p(adata_subset)\n",
    "\n",
    "# Identify highly variable genes\n",
    "sc.pp.highly_variable_genes(adata_subset, n_top_genes=2000)\n",
    "\n",
    "# Scale the data\n",
    "sc.pp.scale(adata_subset, max_value=10)"
   ]
  },
  {
   "cell_type": "code",
   "execution_count": null,
   "id": "d2fc954a-b341-469f-b4a5-5a2c0772efbe",
   "metadata": {},
   "outputs": [],
   "source": [
    "# Compute PCA\n",
    "sc.tl.pca(adata_subset, svd_solver='arpack')\n",
    "\n",
    "# Visualize explained variance (optional)\n",
    "sc.pl.pca_variance_ratio(adata_subset, log=True)\n"
   ]
  },
  {
   "cell_type": "code",
   "execution_count": null,
   "id": "af427890-2caf-41ee-a837-e4954bf22d13",
   "metadata": {},
   "outputs": [],
   "source": [
    "# Compute neighborhood graph\n",
    "sc.pp.neighbors(adata_subset, n_neighbors=10, n_pcs=30)  # Adjust n_pcs based on PCA results\n"
   ]
  },
  {
   "cell_type": "code",
   "execution_count": null,
   "id": "a285f5b9-a20c-415f-81be-450be309dc6f",
   "metadata": {},
   "outputs": [],
   "source": [
    "# Perform clustering\n",
    "sc.tl.leiden(adata_subset, resolution=0.5)  # Adjust resolution \n",
    "# Visualize clusters on UMAP\n",
    "sc.tl.umap(adata_subset)"
   ]
  },
  {
   "cell_type": "code",
   "execution_count": null,
   "id": "ec694717-06db-4b04-8549-96f72ff07d77",
   "metadata": {},
   "outputs": [],
   "source": [
    "sc.pl.umap(adata_subset, color='leiden', legend_loc='on data', palette='Dark2')"
   ]
  },
  {
   "cell_type": "code",
   "execution_count": null,
   "id": "48f13e34-ac36-4560-9315-9cf5b3940f27",
   "metadata": {},
   "outputs": [],
   "source": [
    "sc.pl.umap(adata_subset, color='leiden',  palette='Set2', )"
   ]
  },
  {
   "cell_type": "code",
   "execution_count": null,
   "id": "be91105a-a9f3-4f0b-9824-bd8c5cc886ed",
   "metadata": {},
   "outputs": [],
   "source": [
    "## Save with Scanpy\n",
    "sc.pl.umap(adata_subset, color='leiden', legend_loc='on data', palette='Dark2', save='E9E10NC.AC_neural_and_epi_umap.tiff')"
   ]
  },
  {
   "cell_type": "code",
   "execution_count": null,
   "id": "793158a8-78f2-4042-837d-a0493ba247cc",
   "metadata": {},
   "outputs": [],
   "source": [
    "sc.pl.umap(adata_subset, color='leiden', legend_loc='on data', palette='Dark2')\n"
   ]
  },
  {
   "cell_type": "code",
   "execution_count": null,
   "id": "2a399f92-9298-44ff-8f28-815fffe065c8",
   "metadata": {},
   "outputs": [],
   "source": [
    "# Save again\n",
    "adata_subset.write_h5ad(\"E9E10NC.AC_neural_and_epi.h5ad\")"
   ]
  },
  {
   "cell_type": "markdown",
   "id": "f0f68493",
   "metadata": {},
   "source": [
    "# check different markers for annotation"
   ]
  },
  {
   "cell_type": "code",
   "execution_count": null,
   "id": "8690e5f7-600e-4ad3-97f6-1f4a7fd0bfc3",
   "metadata": {},
   "outputs": [],
   "source": [
    "# NC\n",
    "sc.pl.umap(adata_subset, color=['Foxd3','Sox10'],size=10 )"
   ]
  },
  {
   "cell_type": "code",
   "execution_count": null,
   "id": "e3b0e9e3-8d44-4383-b13f-f62b1004210a",
   "metadata": {},
   "outputs": [],
   "source": [
    "#violin plot\n",
    "sc.pl.violin(adata_subset, ['Foxd3','Sox10'], groupby='leiden')\n"
   ]
  },
  {
   "cell_type": "code",
   "execution_count": null,
   "id": "e61571f4-7a2a-41e3-942a-cc218cbe9025",
   "metadata": {},
   "outputs": [],
   "source": [
    "# Neuron\n",
    "sc.pl.umap(adata_subset, color=['Tubb3','Elavl3'], size=10)"
   ]
  },
  {
   "cell_type": "code",
   "execution_count": null,
   "id": "560f93e8-00ed-46ab-b306-b6277091d031",
   "metadata": {},
   "outputs": [],
   "source": [
    "#Epi\n",
    "sc.pl.umap(adata_subset, color=['Epcam','Krt8'],size=10 )"
   ]
  },
  {
   "cell_type": "code",
   "execution_count": null,
   "id": "41e0a385-9722-47bc-90da-8156a1fa9ae2",
   "metadata": {},
   "outputs": [],
   "source": [
    "#Otic vesicle\n",
    "sc.pl.umap(adata_subset, color=['Oc90','Pax2','Foxg1'], size=10)"
   ]
  },
  {
   "cell_type": "code",
   "execution_count": null,
   "id": "2c26a8ec-924f-44ac-b270-2f29be236013",
   "metadata": {},
   "outputs": [],
   "source": [
    "#find markers\n",
    "# Compute markers\n",
    "sc.tl.rank_genes_groups(adata_subset, groupby='leiden', method='wilcoxon')\n",
    "\n",
    "# View top markers\n",
    "sc.pl.rank_genes_groups(adata_subset, n_genes=50, sharey=False)\n",
    "\n",
    "# Extract and save results\n",
    "markers_df = pd.DataFrame({\n",
    "    group: adata_subset.uns['rank_genes_groups']['names'][group]\n",
    "    for group in adata_subset.uns['rank_genes_groups']['names'].dtype.names\n",
    "})\n",
    "markers_df.to_csv(\"E9E10NC.AC_neural_and_epi.markers.csv\")\n"
   ]
  },
  {
   "cell_type": "code",
   "execution_count": null,
   "id": "2bff56d1-9681-497f-9528-4b7e51a695a1",
   "metadata": {},
   "outputs": [],
   "source": [
    "# Extract marker gene results\n",
    "result = adata_subset.uns['rank_genes_groups']\n",
    "groups = result['names'].dtype.names  # Cluster names\n",
    "\n",
    "# Create a comprehensive DataFrame with all statistics\n",
    "markers_df = pd.DataFrame()\n",
    "\n",
    "for group in groups:\n",
    "    group_df = pd.DataFrame({\n",
    "        'gene': result['names'][group],\n",
    "        'score': result['scores'][group],\n",
    "        'logfoldchange': result['logfoldchanges'][group],\n",
    "        'pval': result['pvals'][group],\n",
    "        'pval_adj': result['pvals_adj'][group],\n",
    "    })\n",
    "    group_df['cluster'] = group  # Add cluster identifier\n",
    "    markers_df = pd.concat([markers_df, group_df], ignore_index=True)\n",
    "\n",
    "# Save the full table to a CSV file\n",
    "markers_df.to_csv(\"marker_genes_full.csv\", index=False)\n",
    "\n",
    "# Display the first few rows of the DataFrame\n",
    "print(markers_df.head())\n"
   ]
  }
 ],
 "metadata": {
  "celltoolbar": "Raw Cell Format",
  "kernelspec": {
   "display_name": "Python 3 (ipykernel)",
   "language": "python",
   "name": "python3"
  },
  "language_info": {
   "codemirror_mode": {
    "name": "ipython",
    "version": 3
   },
   "file_extension": ".py",
   "mimetype": "text/x-python",
   "name": "python",
   "nbconvert_exporter": "python",
   "pygments_lexer": "ipython3",
   "version": "3.11.4"
  }
 },
 "nbformat": 4,
 "nbformat_minor": 5
}
