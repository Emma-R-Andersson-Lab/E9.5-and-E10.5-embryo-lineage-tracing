{
 "cells": [
  {
   "cell_type": "code",
   "execution_count": null,
   "id": "973253d4-0f83-45a7-b9c8-e8b6ac82c2a6",
   "metadata": {},
   "outputs": [],
   "source": [
    "import numpy as np\n",
    "import pandas as pd\n",
    "import scanpy as sc\n",
    "import seaborn as sns\n",
    "import matplotlib.pyplot as plt\n",
    "import os\n",
    "import igraph\n",
    "import leidenalg"
   ]
  },
  {
   "cell_type": "code",
   "execution_count": null,
   "id": "96e5f6f8",
   "metadata": {},
   "outputs": [],
   "source": [
    "pwd"
   ]
  },
  {
   "cell_type": "code",
   "execution_count": null,
   "id": "e886f9c9",
   "metadata": {},
   "outputs": [],
   "source": [
    "cd .."
   ]
  },
  {
   "cell_type": "code",
   "execution_count": null,
   "id": "010b7462-23fb-40e0-9b46-925acd6a7d7f",
   "metadata": {},
   "outputs": [],
   "source": [
    "# read neural and epithelial file\n",
    "adata = sc.read('E9E10NC.AC_neural_and_epi.h5ad')"
   ]
  },
  {
   "cell_type": "code",
   "execution_count": null,
   "id": "016b18bf-34d1-4776-a315-9fbd40b5b039",
   "metadata": {},
   "outputs": [],
   "source": [
    "import warnings\n",
    "warnings.filterwarnings('ignore')\n",
    "sc.pl.umap(adata,color=['leiden'],s=10,legend_loc=\"on data\")"
   ]
  },
  {
   "cell_type": "code",
   "execution_count": null,
   "id": "b6f18057",
   "metadata": {},
   "outputs": [],
   "source": [
    "sc.pl.umap(adata, color='percent.mt', s=10, cmap='viridis', legend_loc='right margin')"
   ]
  },
  {
   "cell_type": "code",
   "execution_count": null,
   "id": "311ead02",
   "metadata": {},
   "outputs": [],
   "source": [
    "sc.pl.umap(adata, color='nFeature_RNA', s=10, cmap='viridis', legend_loc='right margin')"
   ]
  },
  {
   "cell_type": "code",
   "execution_count": null,
   "id": "256dc25e",
   "metadata": {},
   "outputs": [],
   "source": [
    "sc.pl.umap(adata, color='nCount_RNA', s=10, cmap='viridis', legend_loc='right margin')"
   ]
  },
  {
   "cell_type": "code",
   "execution_count": null,
   "id": "9760bd4a-2714-4bac-bb40-6aa81606f42e",
   "metadata": {},
   "outputs": [],
   "source": [
    "# Epithelial cluster - includes otic lineage - needed further subclustering and annotation. Seems like clusters 26, 13, 30. \n",
    "\n",
    "sc.pl.umap(adata,color=['Epcam', 'Sox3', 'Fbxo2', 'Tbx2' ],s=4, ncols=3)\n"
   ]
  },
  {
   "cell_type": "markdown",
   "id": "30c791b6",
   "metadata": {},
   "source": [
    "# subset epithelial clusters"
   ]
  },
  {
   "cell_type": "code",
   "execution_count": null,
   "id": "1b7d013c",
   "metadata": {},
   "outputs": [],
   "source": [
    "#subset Epithelial clusters 13, 26, 30\n",
    "\n",
    "# Subset specific clusters\n",
    "clusters_of_interest = [\"13\",\"26\",\"30\"] \n",
    "# Subset the data for the specified clusters\n",
    "adata_subset_epcam = adata[adata.obs['leiden'].isin(clusters_of_interest)]"
   ]
  },
  {
   "cell_type": "code",
   "execution_count": null,
   "id": "906681a8",
   "metadata": {},
   "outputs": [],
   "source": [
    "import warnings\n",
    "warnings.filterwarnings('ignore')\n",
    "sc.pl.umap(adata_subset_epcam,color=['leiden'],s=10,legend_loc=\"on data\")"
   ]
  },
  {
   "cell_type": "code",
   "execution_count": null,
   "id": "447640fe",
   "metadata": {},
   "outputs": [],
   "source": [
    "sc.pl.umap(adata_subset_epcam,color=['Trp63','Tbx2'  ],s=10, ncols=3)"
   ]
  },
  {
   "cell_type": "code",
   "execution_count": null,
   "id": "d0815569",
   "metadata": {},
   "outputs": [],
   "source": [
    "sc.pp.highly_variable_genes(adata_subset_epcam, min_mean=0.0125, max_mean=3, min_disp=0.5)"
   ]
  },
  {
   "cell_type": "code",
   "execution_count": null,
   "id": "154c02d5",
   "metadata": {},
   "outputs": [],
   "source": [
    "adata_subset_epcam = adata_subset_epcam[:, adata_subset_epcam.var['highly_variable']]"
   ]
  },
  {
   "cell_type": "code",
   "execution_count": null,
   "id": "48dc98a1",
   "metadata": {},
   "outputs": [],
   "source": [
    "sc.pp.normalize_total(adata_subset_epcam, target_sum=1e4)\n",
    "sc.pp.log1p(adata_subset_epcam)\n",
    "sc.pp.scale(adata_subset_epcam, max_value=10)"
   ]
  },
  {
   "cell_type": "code",
   "execution_count": null,
   "id": "4971a0f9",
   "metadata": {},
   "outputs": [],
   "source": [
    "# Visualize expression distribution of key genes\n",
    "adata_subset_epcam.raw = adata_subset_epcam  # Keep raw data intact for visualization\n",
    "sc.pl.violin(adata_subset_epcam, ['Epcam', 'Trp63'], jitter=True)\n"
   ]
  },
  {
   "cell_type": "code",
   "execution_count": null,
   "id": "ad97b815",
   "metadata": {
    "scrolled": true
   },
   "outputs": [],
   "source": [
    "sc.tl.pca(adata_subset_epcam, svd_solver=\"arpack\")\n",
    "sc.pl.pca_variance_ratio(adata_subset_epcam, log=True)"
   ]
  },
  {
   "cell_type": "code",
   "execution_count": null,
   "id": "c2f975aa",
   "metadata": {},
   "outputs": [],
   "source": [
    "sc.pp.neighbors(adata_subset_epcam, n_neighbors=30, n_pcs=50)\n",
    "sc.tl.leiden(adata_subset_epcam, resolution=1.0)\n",
    "sc.tl.umap(adata_subset_epcam)\n",
    "sc.pl.umap(adata_subset_epcam, color=['leiden'], s=10, legend_loc=\"on data\")\n"
   ]
  },
  {
   "cell_type": "code",
   "execution_count": null,
   "id": "ff7f5304",
   "metadata": {},
   "outputs": [],
   "source": [
    "# epidermal markers\n",
    "sc.pl.umap(adata_copy,color=['Krt14', 'Krt5', 'Itga6', 'Trp63', 'Tbx2', 'Odam'],s=4, ncols=3)"
   ]
  },
  {
   "cell_type": "code",
   "execution_count": null,
   "id": "1d8b01f8",
   "metadata": {},
   "outputs": [],
   "source": [
    "sc.pl.violin(adata_subset_epcam, \n",
    "             keys=['Trp63', 'Ripply3'],\n",
    "             jitter=True, \n",
    "             groupby='leiden', \n",
    "             show=True)"
   ]
  },
  {
   "cell_type": "code",
   "execution_count": null,
   "id": "934c9c08",
   "metadata": {},
   "outputs": [],
   "source": [
    "#otic markers - seems like cluster 9.\n",
    "sc.pl.umap(adata_subset_epcam,color=['Fbxo2', 'Tbx2'],s=4, ncols=3)"
   ]
  },
  {
   "cell_type": "code",
   "execution_count": null,
   "id": "a081e8ba",
   "metadata": {},
   "outputs": [],
   "source": [
    "# epidermal markers\n",
    "sc.pl.umap(adata_subset_epcam,color=['Krt14', 'Krt5', 'Itga6', 'Trp63'],s=4, ncols=3)"
   ]
  },
  {
   "cell_type": "code",
   "execution_count": null,
   "id": "c1548f50",
   "metadata": {},
   "outputs": [],
   "source": [
    "adata_subset_epcam.write_h5ad(\"adata_subset_epcam.h5ad\")"
   ]
  },
  {
   "cell_type": "markdown",
   "id": "be8bd738",
   "metadata": {},
   "source": [
    "# lets make a DE list"
   ]
  },
  {
   "cell_type": "code",
   "execution_count": null,
   "id": "bd168eda",
   "metadata": {},
   "outputs": [],
   "source": [
    "import warnings\n",
    "warnings.filterwarnings('ignore')\n",
    "\n",
    "sc.tl.rank_genes_groups(adata_subset_epcam, groupby='leiden', method='wilcoxon')\n",
    "sc.tl.dendrogram(adata_subset_epcam,groupby='leiden')\n",
    "sc.pl.rank_genes_groups_dotplot(adata_subset_epcam, n_genes=5, swap_axes=True)#,save='deg.pdf')"
   ]
  },
  {
   "cell_type": "code",
   "execution_count": null,
   "id": "9dc5cc27",
   "metadata": {},
   "outputs": [],
   "source": [
    "sc.tl.rank_genes_groups(adata_subset_epcam, groupby='leiden', method='wilcoxon')"
   ]
  },
  {
   "cell_type": "code",
   "execution_count": null,
   "id": "fb107c07",
   "metadata": {},
   "outputs": [],
   "source": [
    "de_results = adata_subset_epcam.uns['rank_genes_groups']"
   ]
  },
  {
   "cell_type": "code",
   "execution_count": null,
   "id": "c828fa89",
   "metadata": {},
   "outputs": [],
   "source": [
    "de_genes_list = []\n",
    "for group in de_results['names'].dtype.names:  # Iterating over each cluster\n",
    "    group_genes = pd.DataFrame({\n",
    "        'Gene': de_results['names'][group],\n",
    "        'Log Fold Change': de_results['logfoldchanges'][group],\n",
    "        'P-Value': de_results['pvals'][group],\n",
    "        'Adjusted P-Value': de_results['pvals_adj'][group]\n",
    "    })\n",
    "    group_genes['Cluster'] = group  # Adding cluster information for later reference\n",
    "    de_genes_list.append(group_genes)\n"
   ]
  },
  {
   "cell_type": "code",
   "execution_count": null,
   "id": "99786839",
   "metadata": {},
   "outputs": [],
   "source": [
    "de_genes_df = pd.concat(de_genes_list)"
   ]
  },
  {
   "cell_type": "code",
   "execution_count": null,
   "id": "22f47a57",
   "metadata": {},
   "outputs": [],
   "source": [
    "de_genes_df.to_excel(\"DE_genes.xlsx\", index=False)"
   ]
  }
 ],
 "metadata": {
  "kernelspec": {
   "display_name": "Python 3 (ipykernel)",
   "language": "python",
   "name": "python3"
  },
  "language_info": {
   "codemirror_mode": {
    "name": "ipython",
    "version": 3
   },
   "file_extension": ".py",
   "mimetype": "text/x-python",
   "name": "python",
   "nbconvert_exporter": "python",
   "pygments_lexer": "ipython3",
   "version": "3.11.9"
  }
 },
 "nbformat": 4,
 "nbformat_minor": 5
}
