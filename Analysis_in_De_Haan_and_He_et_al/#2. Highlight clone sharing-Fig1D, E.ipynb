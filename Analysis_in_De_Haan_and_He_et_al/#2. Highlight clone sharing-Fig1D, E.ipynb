{
 "cells": [
  {
   "cell_type": "code",
   "execution_count": null,
   "id": "c9731009-9add-4a32-882f-855034fe0a7c",
   "metadata": {},
   "outputs": [],
   "source": [
    "import scanpy as sc\n",
    "import pathlib\n",
    "import igraph\n",
    "import leidenalg\n",
    "import numpy as np"
   ]
  },
  {
   "cell_type": "code",
   "execution_count": null,
   "id": "ef2c1677-7ae9-4a1c-8741-1324452755b1",
   "metadata": {},
   "outputs": [],
   "source": [
    "adata_subset = sc.read_h5ad(\"E9E10NC.AC_neural_and_epi.h5ad\")"
   ]
  },
  {
   "cell_type": "code",
   "execution_count": null,
   "id": "e7584e46-a9b7-4a05-85c9-f4ed52c19dc3",
   "metadata": {},
   "outputs": [],
   "source": [
    "# Inspect the data\n",
    "print(adata_subset)"
   ]
  },
  {
   "cell_type": "code",
   "execution_count": null,
   "id": "0aad8028-91a1-429c-9b97-1a31af2f835b",
   "metadata": {},
   "outputs": [],
   "source": [
    "# Visualize the clusters\n",
    "sc.pl.umap(\n",
    "    adata_subset,\n",
    "    color='leiden',               # Color by cluster\n",
    "    legend_loc='on data',         # Display labels directly on the UMAP\n",
    "    title='Cluster Visualization',  # Add a title\n",
    "    size=40,                      # Adjust marker size\n",
    "    alpha=0.1,                    # Adjust marker transparency\n",
    "    palette='Set2',               # Use a custom color palette\n",
    ")"
   ]
  },
  {
   "cell_type": "code",
   "execution_count": null,
   "id": "28504600",
   "metadata": {},
   "outputs": [],
   "source": [
    "# Load the CSV file\n",
    "df = pd.read_csv(DATA_DIR/'TREX/E9E10.neural.epi.clone_2_and_more.csv')\n",
    "\n",
    "# Check the first few rows of the dataframe to understand its structure\n",
    "print(df.head())\n"
   ]
  },
  {
   "cell_type": "markdown",
   "id": "d1517d44",
   "metadata": {},
   "source": [
    "# highlight clone sharing"
   ]
  },
  {
   "cell_type": "code",
   "execution_count": null,
   "id": "43ce96f2",
   "metadata": {},
   "outputs": [],
   "source": [
    "# Subset the rows where leiden == 13\n",
    "clone_to_plot = df[df['leiden'] == 13]\n",
    "\n",
    "# Extract the cloneid values\n",
    "cloneid_to_plot = clone_to_plot['cloneid'].unique()\n",
    "\n",
    "# Check the extracted cloneid values\n",
    "print(f\"Clone IDs: {cloneid_to_plot[:10]}\")\n",
    "print(f\"Number of cells to highlight: {len(cloneid_to_plot)}\")"
   ]
  },
  {
   "cell_type": "code",
   "execution_count": null,
   "id": "78855af9-6779-46a3-b6ba-10d7edd9a543",
   "metadata": {},
   "outputs": [],
   "source": [
    "# Find all cells in the dataframe that have any of the cloneid values we extracted\n",
    "cells_with_cloneid = df[df['cloneid'].isin(cloneid_to_plot)]\n",
    "\n",
    "# Extract the 'cellid.old' values for these cells\n",
    "cellid_to_plot = cells_with_cloneid['cellid.old']\n",
    "\n",
    "# Check the first few cellid values\n",
    "print(f\"Cell IDs to highlight: {cellid_to_plot[:10]}\")\n",
    "print(f\"Number of cells to highlight: {len(cellid_to_plot)}\")"
   ]
  },
  {
   "cell_type": "code",
   "execution_count": null,
   "id": "acbf8079",
   "metadata": {},
   "outputs": [],
   "source": [
    "# Use the index of the AnnData object to get the matching cells\n",
    "cells_to_highlight = adata_subset.obs.index[adata_subset.obs.index.isin(cellid_to_plot)]\n",
    "\n",
    "# Check how many cells are being highlighted\n",
    "print(f\"Number of cells to highlight: {len(cells_to_highlight)}\")"
   ]
  },
  {
   "cell_type": "code",
   "execution_count": null,
   "id": "0ba6f2c7",
   "metadata": {},
   "outputs": [],
   "source": [
    "# Create a new categorical column in `adata.obs` to mark cells to highlight\n",
    "adata_subset.obs['highlight'] = pd.Categorical(adata_subset.obs.index.isin(cells_to_highlight))\n",
    "\n",
    "# Assign colors for the 'highlight' categories\n",
    "# 'True' will correspond to the highlighted cells, 'False' to others\n",
    "adata_subset.uns['highlight_colors'] = ['lightgrey', 'magenta']\n",
    "\n",
    "# Plot the UMAP, coloring by the 'highlight' column and using the custom size column\n",
    "sc.pl.umap(adata_subset, \n",
    "           color='highlight',  # Color by the new 'highlight' column\n",
    "           size=50,  # Size according to the 'size' column we created\n",
    "           add_outline=False,  # Add outline around the points\n",
    "           title=\"UMAP with Highlighted Cells\",  # Title of the plot\n",
    "           show=True)  # Show the plot\n"
   ]
  },
  {
   "cell_type": "code",
   "execution_count": null,
   "id": "c1d6b5e2",
   "metadata": {},
   "outputs": [],
   "source": [
    "# Create a new categorical column in `adata.obs` to mark cells to highlight\n",
    "adata_subset.obs['highlight'] = pd.Categorical(adata_subset.obs.index.isin(cells_to_highlight))\n",
    "\n",
    "# Assign colors for the 'highlight' categories\n",
    "# 'True' will correspond to the highlighted cells, 'False' to others\n",
    "adata_subset.uns['highlight_colors'] = ['lightgrey', 'magenta']\n",
    "\n",
    "# Plot the UMAP, coloring by the 'highlight' column\n",
    "# Note: size is set for all cells, but we will adjust the drawing order manually\n",
    "sc.pl.umap(adata_subset, \n",
    "           color='highlight',  \n",
    "           size=5,  # Same size for all cells, we control the z-order\n",
    "           add_outline=False,  # Remove outline\n",
    "           title=\"clone sharing\",  \n",
    "           show=False)  # Show=False to control drawing order manually\n",
    "\n",
    "# Access the matplotlib figure and axis\n",
    "fig, ax = plt.gcf(), plt.gca()\n",
    "\n",
    "# Plot the unhighlighted cells (lightgrey) with lower zorder (background)\n",
    "unhighlighted_coords = adata_subset.obsm['X_umap'][adata_subset.obs['highlight'] == False]\n",
    "ax.scatter(unhighlighted_coords[:, 0], unhighlighted_coords[:, 1], \n",
    "           color='lightgrey',  # Use the lightgrey color\n",
    "           s=5,  # Set the size for unhighlighted cells\n",
    "           alpha=0.5,  # Slight transparency for the unhighlighted cells\n",
    "           zorder=1)  # Lower zorder to place them in the background\n",
    "\n",
    "# Plot the highlighted cells (magenta) with higher zorder (front)\n",
    "highlighted_coords = adata_subset.obsm['X_umap'][adata_subset.obs['highlight'] == True]\n",
    "ax.scatter(highlighted_coords[:, 0], highlighted_coords[:, 1], \n",
    "           color='magenta',  # Use the magenta color for highlighted cells\n",
    "           s=10,  # Set the size for highlighted cells (larger than unhighlighted)\n",
    "           alpha=0.7,  # Slight transparency for the highlighted cells\n",
    "           zorder=2)  # Higher zorder to place them in the front\n",
    "\n"
   ]
  }
 ],
 "metadata": {
  "kernelspec": {
   "display_name": "Python 3 (ipykernel)",
   "language": "python",
   "name": "python3"
  },
  "language_info": {
   "codemirror_mode": {
    "name": "ipython",
    "version": 3
   },
   "file_extension": ".py",
   "mimetype": "text/x-python",
   "name": "python",
   "nbconvert_exporter": "python",
   "pygments_lexer": "ipython3",
   "version": "3.11.9"
  }
 },
 "nbformat": 4,
 "nbformat_minor": 5
}
